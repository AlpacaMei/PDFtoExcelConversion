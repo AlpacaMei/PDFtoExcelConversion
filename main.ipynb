{
 "cells": [
  {
   "cell_type": "code",
   "execution_count": null,
   "metadata": {},
   "outputs": [],
   "source": [
    "# main.py\n",
    "# import sys\n",
    "# print(sys.path)  # 顯示模組搜尋路徑\n",
    "from batch_pdf_to_excel import BatchPDFConverter\n",
    "\n",
    "if __name__ == \"__main__\":\n",
    "    batch = BatchPDFConverter()  # 建立 BatchPDFConverter 物件\n",
    "    batch.run()  # 呼叫 run 方法來執行批次處理，會自動選擇檔案和輸入密碼"
   ]
  }
 ],
 "metadata": {
  "kernelspec": {
   "display_name": "PDFtoExcel",
   "language": "python",
   "name": "python3"
  },
  "language_info": {
   "codemirror_mode": {
    "name": "ipython",
    "version": 3
   },
   "file_extension": ".py",
   "mimetype": "text/x-python",
   "name": "python",
   "nbconvert_exporter": "python",
   "pygments_lexer": "ipython3",
   "version": "3.11.11"
  }
 },
 "nbformat": 4,
 "nbformat_minor": 2
}
